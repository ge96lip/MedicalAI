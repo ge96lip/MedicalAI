{
 "cells": [
  {
   "cell_type": "code",
   "execution_count": 1,
   "id": "6cc64114",
   "metadata": {},
   "outputs": [],
   "source": [
    "import time\n",
    "import warnings\n",
    "import numpy as np\n",
    "\n",
    "warnings.simplefilter(\"ignore\")\n",
    "\n",
    "import torch\n",
    "import torchvision\n",
    "from torch import nn, optim\n",
    "import torch.multiprocessing as mp\n",
    "import torchvision.transforms as transforms\n",
    "\n",
    "from opacus import PrivacyEngine\n",
    "from opacus.validators import ModuleValidator\n",
    "from opacus.utils.batch_memory_manager import BatchMemoryManager\n",
    "\n",
    "from tqdm.notebook import tqdm \n",
    "\n",
    "\n",
    "if torch.cuda.is_available():\n",
    "    device = \"cuda\"\n",
    "elif torch.backends.mps.is_available():\n",
    "    device = \"mps\"\n",
    "else:\n",
    "    device = \"cpu\""
   ]
  },
  {
   "cell_type": "code",
   "execution_count": 2,
   "id": "4a41919d",
   "metadata": {},
   "outputs": [],
   "source": [
    "# Define data transformations\n",
    "transform = transforms.Compose([\n",
    "    transforms.ToTensor(),\n",
    "    transforms.Normalize((0.4914, 0.4822, 0.4465), (0.2023, 0.1994, 0.2010))\n",
    "])"
   ]
  },
  {
   "cell_type": "code",
   "execution_count": 3,
   "id": "b19e80df",
   "metadata": {},
   "outputs": [],
   "source": [
    "# Hyperparameters for training and privacy\n",
    "MAX_GRAD_NORM = 1.2\n",
    "EPSILON = 50.0\n",
    "DELTA = 1e-5\n",
    "\n",
    "EPOCHS = 20\n",
    "LR = 1e-3"
   ]
  },
  {
   "cell_type": "code",
   "execution_count": 4,
   "id": "be4a7b1e",
   "metadata": {},
   "outputs": [],
   "source": [
    "# Function to make the model differentially private\n",
    "def make_private(model, optimizer, train_loader):\n",
    "    model_dp, optimizer_dp, train_loader_dp = privacy_engine.make_private_with_epsilon(\n",
    "        module=model,\n",
    "        optimizer=optimizer,\n",
    "        data_loader=train_loader,\n",
    "        epochs=EPOCHS,\n",
    "        target_epsilon=EPSILON,\n",
    "        target_delta=DELTA,\n",
    "        max_grad_norm=MAX_GRAD_NORM,\n",
    "    )\n",
    "    return model_dp, optimizer_dp, train_loader_dp\n",
    "\n",
    "# Function to calculate accuracy\n",
    "def accuracy(preds, labels):\n",
    "    return (preds == labels).mean()\n",
    "\n",
    "# Function for training the model\n",
    "def train(model, optimizer, train_loader, device, dp, task): \n",
    "    start_time = time.time()\n",
    "\n",
    "    model = model.to(device)\n",
    "\n",
    "    for epoch in tqdm(range(EPOCHS), desc=\"Epoch\", unit=\"epoch\"):\n",
    "    \n",
    "        model.train()\n",
    "        criterion = nn.CrossEntropyLoss()\n",
    "\n",
    "        losses = []\n",
    "        accs = []\n",
    "\n",
    "        # BatchMemoryManager manages the memory usage (e.g. you can use bigger logical batches)\n",
    "        with BatchMemoryManager(data_loader=train_loader, max_physical_batch_size=128, optimizer=optimizer) as loader:\n",
    "            if not dp:\n",
    "                loader = train_loader\n",
    "\n",
    "            for i, (images, target) in enumerate(loader):   \n",
    "                optimizer.zero_grad()\n",
    "                images = images.to(device)\n",
    "                target = target.to(device)\n",
    "                \n",
    "                if task == 'multi_class': \n",
    "                    target = target.squeeze().float()\n",
    "                \n",
    "                output = model(images)\n",
    "                loss = criterion(output, target)\n",
    "\n",
    "                preds = np.argmax(output.detach().cpu().numpy(), axis=1)\n",
    "                labels = target.detach().cpu().numpy()\n",
    "\n",
    "                acc = accuracy(preds, labels)\n",
    "\n",
    "                losses.append(loss.item())\n",
    "                accs.append(acc)\n",
    "\n",
    "                loss.backward()\n",
    "                optimizer.step()\n",
    "\n",
    "            if dp:\n",
    "                epsilon = privacy_engine.get_epsilon(DELTA)\n",
    "            else:\n",
    "                epsilon = float('inf')\n",
    "            print(\n",
    "                f\"Training Epoch {epoch+1:02d} \\t\"\n",
    "                f\"Loss: {np.mean(losses):.6f} | \"\n",
    "                f\"Acc: {np.mean(accs) * 100:.6f} | \"\n",
    "                f\"ε = {epsilon:.2f}\"\n",
    "            )\n",
    "                \n",
    "    end_time = time.time()\n",
    "    training_time = end_time - start_time\n",
    "    print(f'\\nTraining Time \\t\\t{training_time:.2f} seconds')\n",
    "                \n",
    "# Function for testing the model\n",
    "def test(model, test_loader, device, dp, task):\n",
    "    model = model.to(device)\n",
    "    \n",
    "    model.eval()\n",
    "    criterion = nn.CrossEntropyLoss()\n",
    "        \n",
    "    losses = []\n",
    "    accs = []\n",
    "\n",
    "    with torch.no_grad():\n",
    "        for images, target in test_loader:\n",
    "            images = images.to(device)\n",
    "            target = target.to(device)\n",
    "\n",
    "            if task == 'multi_class': \n",
    "                target = target.squeeze().float()\n",
    "                \n",
    "            output = model(images)\n",
    "            loss = criterion(output, target)\n",
    "            \n",
    "            preds = np.argmax(output.detach().cpu().numpy(), axis=1)\n",
    "            labels = target.detach().cpu().numpy()\n",
    "            \n",
    "            acc = accuracy(preds, labels)\n",
    "\n",
    "            losses.append(loss.item())\n",
    "            accs.append(acc)\n",
    "\n",
    "    print(\n",
    "        f\"Test Set \\t\\t\"\n",
    "        f\"Loss: {np.mean(losses):.6f} | \"\n",
    "        f\"Acc: {np.mean(accs) * 100:.6f} \"\n",
    "    )\n",
    "\n",
    "# Function for the overall pipeline\n",
    "def pipeline(model, train_loader, test_loader, device, task=None):\n",
    "    optimizer = optim.RMSprop(model.parameters(), lr=LR)\n",
    "\n",
    "    # Specific layers of the model can't be made differentially private, so the model has to be fixed\n",
    "    model_fixed = ModuleValidator.fix(model)\n",
    "    optimizer_fixed = optim.RMSprop(model_fixed.parameters(), lr=LR)\n",
    "\n",
    "    model_dp, optimizer_dp, train_loader_dp = make_private(model_fixed, optimizer_fixed, train_loader)\n",
    "    \n",
    "    print(f'\\n===== With DP =====')\n",
    "    train(model_dp, optimizer_dp, train_loader_dp, device, True, task)\n",
    "    test(model_dp, test_loader, device, True, task)\n",
    "    print(f'\\n===== Without DP =====')\n",
    "    train(model, optimizer, train_loader, device, False, task)\n",
    "    test(model, test_loader, device, False, task)"
   ]
  },
  {
   "cell_type": "code",
   "execution_count": 6,
   "id": "afd3e6a3",
   "metadata": {},
   "outputs": [
    {
     "name": "stdout",
     "output_type": "stream",
     "text": [
      "Files already downloaded and verified\n",
      "Files already downloaded and verified\n",
      "\n",
      "===== With DP =====\n"
     ]
    },
    {
     "data": {
      "application/vnd.jupyter.widget-view+json": {
       "model_id": "3a5f957cdaee4b099fc66dab4cfecf8f",
       "version_major": 2,
       "version_minor": 0
      },
      "text/plain": [
       "Epoch:   0%|          | 0/20 [00:00<?, ?epoch/s]"
      ]
     },
     "metadata": {},
     "output_type": "display_data"
    },
    {
     "name": "stdout",
     "output_type": "stream",
     "text": [
      "Training Epoch 01 \tLoss: 2.044835 | Acc: 29.813140 | ε = 15.40\n",
      "Training Epoch 02 \tLoss: 1.731952 | Acc: 44.228565 | ε = 18.97\n",
      "Training Epoch 03 \tLoss: 1.744378 | Acc: 47.843522 | ε = 21.78\n",
      "Training Epoch 04 \tLoss: 1.725699 | Acc: 49.884614 | ε = 24.21\n",
      "Training Epoch 05 \tLoss: 1.716553 | Acc: 51.629311 | ε = 26.40\n",
      "Training Epoch 06 \tLoss: 1.690524 | Acc: 53.580725 | ε = 28.43\n",
      "Training Epoch 07 \tLoss: 1.707080 | Acc: 54.283086 | ε = 30.34\n",
      "Training Epoch 08 \tLoss: 1.673652 | Acc: 55.519441 | ε = 32.14\n",
      "Training Epoch 09 \tLoss: 1.690878 | Acc: 55.878178 | ε = 33.87\n",
      "Training Epoch 10 \tLoss: 1.661158 | Acc: 56.794265 | ε = 35.54\n",
      "Training Epoch 11 \tLoss: 1.664296 | Acc: 57.527864 | ε = 37.14\n",
      "Training Epoch 12 \tLoss: 1.645446 | Acc: 58.255640 | ε = 38.70\n",
      "Training Epoch 13 \tLoss: 1.658301 | Acc: 58.339165 | ε = 40.22\n",
      "Training Epoch 14 \tLoss: 1.642412 | Acc: 59.203316 | ε = 41.70\n",
      "Training Epoch 15 \tLoss: 1.640699 | Acc: 59.127673 | ε = 43.15\n",
      "Training Epoch 16 \tLoss: 1.618777 | Acc: 60.014105 | ε = 44.57\n",
      "Training Epoch 17 \tLoss: 1.636385 | Acc: 60.179535 | ε = 45.96\n",
      "Training Epoch 18 \tLoss: 1.633938 | Acc: 60.412793 | ε = 47.32\n",
      "Training Epoch 19 \tLoss: 1.619277 | Acc: 61.105018 | ε = 48.67\n",
      "Training Epoch 20 \tLoss: 1.610806 | Acc: 61.119620 | ε = 49.99\n",
      "\n",
      "Training Time \t\t28201.90 seconds\n",
      "Test Set \t\tLoss: 1.774422 | Acc: 58.056641 \n",
      "\n",
      "===== Without DP =====\n"
     ]
    },
    {
     "data": {
      "application/vnd.jupyter.widget-view+json": {
       "model_id": "caf54608c2e84151a02edb9592e8d167",
       "version_major": 2,
       "version_minor": 0
      },
      "text/plain": [
       "Epoch:   0%|          | 0/20 [00:00<?, ?epoch/s]"
      ]
     },
     "metadata": {},
     "output_type": "display_data"
    },
    {
     "name": "stdout",
     "output_type": "stream",
     "text": [
      "Training Epoch 01 \tLoss: 1.555629 | Acc: 44.900351 | ε = inf\n",
      "Training Epoch 02 \tLoss: 1.050227 | Acc: 62.592474 | ε = inf\n",
      "Training Epoch 03 \tLoss: 0.841995 | Acc: 70.547672 | ε = inf\n",
      "Training Epoch 04 \tLoss: 0.693986 | Acc: 75.778460 | ε = inf\n",
      "Training Epoch 05 \tLoss: 0.571016 | Acc: 80.101642 | ε = inf\n",
      "Training Epoch 06 \tLoss: 0.463993 | Acc: 83.962054 | ε = inf\n",
      "Training Epoch 07 \tLoss: 0.368484 | Acc: 87.204241 | ε = inf\n",
      "Training Epoch 08 \tLoss: 0.285049 | Acc: 90.141901 | ε = inf\n",
      "Training Epoch 09 \tLoss: 0.226170 | Acc: 92.120536 | ε = inf\n",
      "Training Epoch 10 \tLoss: 0.184158 | Acc: 93.557079 | ε = inf\n",
      "Training Epoch 11 \tLoss: 0.150194 | Acc: 94.693080 | ε = inf\n",
      "Training Epoch 12 \tLoss: 0.132126 | Acc: 95.380261 | ε = inf\n",
      "Training Epoch 13 \tLoss: 0.116747 | Acc: 96.020807 | ε = inf\n",
      "Training Epoch 14 \tLoss: 0.109167 | Acc: 96.247608 | ε = inf\n",
      "Training Epoch 15 \tLoss: 0.089109 | Acc: 96.926419 | ε = inf\n",
      "Training Epoch 16 \tLoss: 0.085142 | Acc: 96.988202 | ε = inf\n",
      "Training Epoch 17 \tLoss: 0.084722 | Acc: 97.091040 | ε = inf\n",
      "Training Epoch 18 \tLoss: 0.073767 | Acc: 97.398756 | ε = inf\n",
      "Training Epoch 19 \tLoss: 0.068953 | Acc: 97.623166 | ε = inf\n",
      "Training Epoch 20 \tLoss: 0.067824 | Acc: 97.636719 | ε = inf\n",
      "\n",
      "Training Time \t\t385.38 seconds\n",
      "Test Set \t\tLoss: 1.517834 | Acc: 72.080078 \n"
     ]
    }
   ],
   "source": [
    "# CIFAR 10\n",
    "train_dataset = torchvision.datasets.CIFAR10(root='/Users/valentinbiller/Downloads/data', train=True, download=True, transform=transform)\n",
    "train_loader = torch.utils.data.DataLoader(train_dataset, batch_size=256, shuffle=True)\n",
    "\n",
    "test_dataset = torchvision.datasets.CIFAR10(root='/Users/valentinbiller/Downloads/data', train=False, download=True, transform=transform)\n",
    "test_loader = torch.utils.data.DataLoader(test_dataset, batch_size=256, shuffle=False)\n",
    "\n",
    "# Initialize the privacy engine and the model\n",
    "privacy_engine = PrivacyEngine()\n",
    "model = torchvision.models.resnet18(num_classes=10)\n",
    "\n",
    "pipeline(model, train_loader, test_loader, device)"
   ]
  },
  {
   "cell_type": "code",
   "execution_count": 5,
   "id": "1172bf37",
   "metadata": {
    "scrolled": false
   },
   "outputs": [
    {
     "name": "stdout",
     "output_type": "stream",
     "text": [
      "Using downloaded and verified file: /Users/valentinbiller/Downloads/dermamnist.npz\n",
      "Using downloaded and verified file: /Users/valentinbiller/Downloads/dermamnist.npz\n",
      "\n",
      "\n",
      "\n",
      " ========== dermamnist ========== \n",
      "\n",
      "\n",
      "===== With DP =====\n"
     ]
    },
    {
     "data": {
      "application/vnd.jupyter.widget-view+json": {
       "model_id": "",
       "version_major": 2,
       "version_minor": 0
      },
      "text/plain": [
       "Epoch:   0%|          | 0/20 [00:00<?, ?epoch/s]"
      ]
     },
     "metadata": {},
     "output_type": "display_data"
    },
    {
     "name": "stdout",
     "output_type": "stream",
     "text": [
      "Training Epoch 01 \tLoss: 2.551348 | Acc: 60.523589 | ε = 14.26\n",
      "Training Epoch 02 \tLoss: 1.902619 | Acc: 67.368585 | ε = 17.88\n",
      "Training Epoch 03 \tLoss: 1.821546 | Acc: 66.446917 | ε = 20.74\n",
      "Training Epoch 04 \tLoss: 1.524055 | Acc: 67.763645 | ε = 23.22\n",
      "Training Epoch 05 \tLoss: 1.476889 | Acc: 68.231209 | ε = 25.48\n",
      "Training Epoch 06 \tLoss: 1.380161 | Acc: 69.751790 | ε = 27.57\n",
      "Training Epoch 07 \tLoss: 1.362810 | Acc: 70.174934 | ε = 29.53\n",
      "Training Epoch 08 \tLoss: 1.312899 | Acc: 70.674299 | ε = 31.40\n",
      "Training Epoch 09 \tLoss: 1.271073 | Acc: 71.304581 | ε = 33.19\n",
      "Training Epoch 10 \tLoss: 1.287653 | Acc: 70.828164 | ε = 34.92\n",
      "Training Epoch 11 \tLoss: 1.186437 | Acc: 72.439810 | ε = 36.59\n",
      "Training Epoch 12 \tLoss: 1.288666 | Acc: 71.950280 | ε = 38.21\n",
      "Training Epoch 13 \tLoss: 1.199026 | Acc: 73.454015 | ε = 39.79\n",
      "Training Epoch 14 \tLoss: 1.248781 | Acc: 71.854859 | ε = 41.33\n",
      "Training Epoch 15 \tLoss: 1.176952 | Acc: 72.586511 | ε = 42.84\n",
      "Training Epoch 16 \tLoss: 1.161274 | Acc: 73.133663 | ε = 44.32\n",
      "Training Epoch 17 \tLoss: 1.212100 | Acc: 72.548635 | ε = 45.77\n",
      "Training Epoch 18 \tLoss: 1.139723 | Acc: 73.670711 | ε = 47.20\n",
      "Training Epoch 19 \tLoss: 1.177547 | Acc: 73.484807 | ε = 48.61\n",
      "Training Epoch 20 \tLoss: 1.220171 | Acc: 72.473986 | ε = 49.99\n",
      "\n",
      "Training Time \t\t2883.29 seconds\n",
      "Test Set \t\tLoss: 1.337209 | Acc: 71.859641 \n",
      "\n",
      "===== Without DP =====\n"
     ]
    },
    {
     "data": {
      "application/vnd.jupyter.widget-view+json": {
       "model_id": "",
       "version_major": 2,
       "version_minor": 0
      },
      "text/plain": [
       "Epoch:   0%|          | 0/20 [00:00<?, ?epoch/s]"
      ]
     },
     "metadata": {},
     "output_type": "display_data"
    },
    {
     "name": "stdout",
     "output_type": "stream",
     "text": [
      "Training Epoch 01 \tLoss: 1.193251 | Acc: 64.842869 | ε = inf\n",
      "Training Epoch 02 \tLoss: 0.862709 | Acc: 69.609816 | ε = inf\n",
      "Training Epoch 03 \tLoss: 0.814285 | Acc: 70.563910 | ε = inf\n",
      "Training Epoch 04 \tLoss: 0.769928 | Acc: 71.698191 | ε = inf\n",
      "Training Epoch 05 \tLoss: 0.739141 | Acc: 72.830563 | ε = inf\n",
      "Training Epoch 06 \tLoss: 0.717317 | Acc: 73.730762 | ε = inf\n",
      "Training Epoch 07 \tLoss: 0.686837 | Acc: 74.512747 | ε = inf\n",
      "Training Epoch 08 \tLoss: 0.647904 | Acc: 75.310297 | ε = inf\n",
      "Training Epoch 09 \tLoss: 0.619038 | Acc: 76.884839 | ε = inf\n",
      "Training Epoch 10 \tLoss: 0.601004 | Acc: 77.436266 | ε = inf\n",
      "Training Epoch 11 \tLoss: 0.561596 | Acc: 78.799195 | ε = inf\n",
      "Training Epoch 12 \tLoss: 0.537862 | Acc: 79.315378 | ε = inf\n",
      "Training Epoch 13 \tLoss: 0.499165 | Acc: 81.662653 | ε = inf\n",
      "Training Epoch 14 \tLoss: 0.486944 | Acc: 81.894384 | ε = inf\n",
      "Training Epoch 15 \tLoss: 0.425844 | Acc: 84.006403 | ε = inf\n",
      "Training Epoch 16 \tLoss: 0.388437 | Acc: 85.708412 | ε = inf\n",
      "Training Epoch 17 \tLoss: 0.357329 | Acc: 86.887629 | ε = inf\n",
      "Training Epoch 18 \tLoss: 0.333452 | Acc: 87.582090 | ε = inf\n",
      "Training Epoch 19 \tLoss: 0.260201 | Acc: 90.505610 | ε = inf\n",
      "Training Epoch 20 \tLoss: 0.246469 | Acc: 90.890801 | ε = inf\n",
      "\n",
      "Training Time \t\t52.59 seconds\n",
      "Test Set \t\tLoss: 1.373304 | Acc: 68.460928 \n",
      "\n",
      "\n",
      "\n",
      "\n",
      "Using downloaded and verified file: /Users/valentinbiller/Downloads/pneumoniamnist.npz\n",
      "Using downloaded and verified file: /Users/valentinbiller/Downloads/pneumoniamnist.npz\n",
      "\n",
      "\n",
      "\n",
      " ========== pneumoniamnist ========== \n",
      "\n",
      "\n",
      "===== With DP =====\n"
     ]
    },
    {
     "data": {
      "application/vnd.jupyter.widget-view+json": {
       "model_id": "",
       "version_major": 2,
       "version_minor": 0
      },
      "text/plain": [
       "Epoch:   0%|          | 0/20 [00:00<?, ?epoch/s]"
      ]
     },
     "metadata": {},
     "output_type": "display_data"
    },
    {
     "name": "stdout",
     "output_type": "stream",
     "text": [
      "Training Epoch 01 \tLoss: 1.950181 | Acc: 72.454273 | ε = 13.96\n",
      "Training Epoch 02 \tLoss: 0.747954 | Acc: 80.930511 | ε = 17.59\n",
      "Training Epoch 03 \tLoss: 0.229284 | Acc: 94.351331 | ε = 20.47\n",
      "Training Epoch 04 \tLoss: 0.191347 | Acc: 95.403503 | ε = 22.97\n",
      "Training Epoch 05 \tLoss: 0.198192 | Acc: 95.539769 | ε = 25.24\n",
      "Training Epoch 06 \tLoss: 0.202811 | Acc: 95.350311 | ε = 27.35\n",
      "Training Epoch 07 \tLoss: 0.163761 | Acc: 96.217794 | ε = 29.33\n",
      "Training Epoch 08 \tLoss: 0.141611 | Acc: 96.887694 | ε = 31.21\n",
      "Training Epoch 09 \tLoss: 0.176070 | Acc: 96.081477 | ε = 33.02\n",
      "Training Epoch 10 \tLoss: 0.148668 | Acc: 96.649277 | ε = 34.76\n",
      "Training Epoch 11 \tLoss: 0.128398 | Acc: 96.909740 | ε = 36.45\n",
      "Training Epoch 12 \tLoss: 0.143338 | Acc: 96.754892 | ε = 38.08\n",
      "Training Epoch 13 \tLoss: 0.112443 | Acc: 97.508516 | ε = 39.68\n",
      "Training Epoch 14 \tLoss: 0.105713 | Acc: 97.333949 | ε = 41.24\n",
      "Training Epoch 15 \tLoss: 0.108185 | Acc: 97.551897 | ε = 42.76\n",
      "Training Epoch 16 \tLoss: 0.111878 | Acc: 97.542435 | ε = 44.26\n",
      "Training Epoch 17 \tLoss: 0.094764 | Acc: 97.902533 | ε = 45.73\n",
      "Training Epoch 18 \tLoss: 0.087774 | Acc: 97.894653 | ε = 47.17\n",
      "Training Epoch 19 \tLoss: 0.101621 | Acc: 97.978445 | ε = 48.59\n",
      "Training Epoch 20 \tLoss: 0.094924 | Acc: 97.958994 | ε = 49.99\n",
      "\n",
      "Training Time \t\t2047.42 seconds\n",
      "Test Set \t\tLoss: 0.918239 | Acc: 86.774554 \n",
      "\n",
      "===== Without DP =====\n"
     ]
    },
    {
     "data": {
      "application/vnd.jupyter.widget-view+json": {
       "model_id": "",
       "version_major": 2,
       "version_minor": 0
      },
      "text/plain": [
       "Epoch:   0%|          | 0/20 [00:00<?, ?epoch/s]"
      ]
     },
     "metadata": {},
     "output_type": "display_data"
    },
    {
     "name": "stdout",
     "output_type": "stream",
     "text": [
      "Training Epoch 01 \tLoss: 0.482687 | Acc: 86.393914 | ε = inf\n",
      "Training Epoch 02 \tLoss: 0.114491 | Acc: 95.307566 | ε = inf\n",
      "Training Epoch 03 \tLoss: 0.098547 | Acc: 96.191612 | ε = inf\n",
      "Training Epoch 04 \tLoss: 0.069804 | Acc: 97.233553 | ε = inf\n",
      "Training Epoch 05 \tLoss: 0.054214 | Acc: 97.927632 | ε = inf\n",
      "Training Epoch 06 \tLoss: 0.081672 | Acc: 96.920230 | ε = inf\n",
      "Training Epoch 07 \tLoss: 0.046725 | Acc: 98.176809 | ε = inf\n",
      "Training Epoch 08 \tLoss: 0.038859 | Acc: 98.587993 | ε = inf\n",
      "Training Epoch 09 \tLoss: 0.048650 | Acc: 98.343750 | ε = inf\n",
      "Training Epoch 10 \tLoss: 0.023524 | Acc: 99.248355 | ε = inf\n",
      "Training Epoch 11 \tLoss: 0.039681 | Acc: 98.638158 | ε = inf\n",
      "Training Epoch 12 \tLoss: 0.058777 | Acc: 97.891447 | ε = inf\n",
      "Training Epoch 13 \tLoss: 0.018859 | Acc: 99.403783 | ε = inf\n",
      "Training Epoch 14 \tLoss: 0.016208 | Acc: 99.343750 | ε = inf\n",
      "Training Epoch 15 \tLoss: 0.062221 | Acc: 98.005757 | ε = inf\n",
      "Training Epoch 16 \tLoss: 0.011469 | Acc: 99.629934 | ε = inf\n",
      "Training Epoch 17 \tLoss: 0.053218 | Acc: 98.094572 | ε = inf\n",
      "Training Epoch 18 \tLoss: 0.016860 | Acc: 99.547697 | ε = inf\n",
      "Training Epoch 19 \tLoss: 0.007058 | Acc: 99.712171 | ε = inf\n",
      "Training Epoch 20 \tLoss: 0.002501 | Acc: 99.958882 | ε = inf\n",
      "\n",
      "Training Time \t\t35.00 seconds\n",
      "Test Set \t\tLoss: 1.061241 | Acc: 83.928571 \n",
      "\n",
      "\n",
      "\n",
      "\n",
      "Using downloaded and verified file: /Users/valentinbiller/Downloads/bloodmnist.npz\n",
      "Using downloaded and verified file: /Users/valentinbiller/Downloads/bloodmnist.npz\n",
      "\n",
      "\n",
      "\n",
      " ========== bloodmnist ========== \n",
      "\n",
      "\n",
      "===== With DP =====\n"
     ]
    },
    {
     "data": {
      "application/vnd.jupyter.widget-view+json": {
       "model_id": "",
       "version_major": 2,
       "version_minor": 0
      },
      "text/plain": [
       "Epoch:   0%|          | 0/20 [00:00<?, ?epoch/s]"
      ]
     },
     "metadata": {},
     "output_type": "display_data"
    },
    {
     "name": "stdout",
     "output_type": "stream",
     "text": [
      "Training Epoch 01 \tLoss: 2.138095 | Acc: 35.917738 | ε = 14.61\n",
      "Training Epoch 02 \tLoss: 1.192885 | Acc: 58.699167 | ε = 18.21\n",
      "Training Epoch 03 \tLoss: 0.952730 | Acc: 70.441760 | ε = 21.05\n",
      "Training Epoch 04 \tLoss: 0.817348 | Acc: 77.238714 | ε = 23.52\n",
      "Training Epoch 05 \tLoss: 0.782959 | Acc: 79.078075 | ε = 25.76\n",
      "Training Epoch 06 \tLoss: 0.717617 | Acc: 80.649247 | ε = 27.83\n",
      "Training Epoch 07 \tLoss: 0.632575 | Acc: 82.989218 | ε = 29.77\n",
      "Training Epoch 08 \tLoss: 0.656184 | Acc: 83.500507 | ε = 31.62\n",
      "Training Epoch 09 \tLoss: 0.639926 | Acc: 84.686075 | ε = 33.40\n",
      "Training Epoch 10 \tLoss: 0.689738 | Acc: 83.568041 | ε = 35.10\n",
      "Training Epoch 11 \tLoss: 0.651299 | Acc: 84.334748 | ε = 36.75\n",
      "Training Epoch 12 \tLoss: 0.585230 | Acc: 85.934164 | ε = 38.36\n",
      "Training Epoch 13 \tLoss: 0.596655 | Acc: 86.047979 | ε = 39.92\n",
      "Training Epoch 14 \tLoss: 0.599818 | Acc: 86.318762 | ε = 41.44\n",
      "Training Epoch 15 \tLoss: 0.575942 | Acc: 86.702169 | ε = 42.93\n",
      "Training Epoch 16 \tLoss: 0.570932 | Acc: 86.735851 | ε = 44.39\n",
      "Training Epoch 17 \tLoss: 0.589540 | Acc: 86.737432 | ε = 45.83\n",
      "Training Epoch 18 \tLoss: 0.532722 | Acc: 87.934580 | ε = 47.24\n",
      "Training Epoch 19 \tLoss: 0.523887 | Acc: 88.067789 | ε = 48.62\n",
      "Training Epoch 20 \tLoss: 0.582614 | Acc: 87.073296 | ε = 49.99\n",
      "\n",
      "Training Time \t\t5395.57 seconds\n",
      "Test Set \t\tLoss: 0.721711 | Acc: 84.338998 \n",
      "\n",
      "===== Without DP =====\n"
     ]
    },
    {
     "data": {
      "application/vnd.jupyter.widget-view+json": {
       "model_id": "",
       "version_major": 2,
       "version_minor": 0
      },
      "text/plain": [
       "Epoch:   0%|          | 0/20 [00:00<?, ?epoch/s]"
      ]
     },
     "metadata": {},
     "output_type": "display_data"
    },
    {
     "name": "stdout",
     "output_type": "stream",
     "text": [
      "Training Epoch 01 \tLoss: 1.214864 | Acc: 63.926524 | ε = inf\n",
      "Training Epoch 02 \tLoss: 0.481730 | Acc: 82.049780 | ε = inf\n",
      "Training Epoch 03 \tLoss: 0.393518 | Acc: 85.402542 | ε = inf\n",
      "Training Epoch 04 \tLoss: 0.474790 | Acc: 83.140178 | ε = inf\n",
      "Training Epoch 05 \tLoss: 0.292580 | Acc: 89.351801 | ε = inf\n",
      "Training Epoch 06 \tLoss: 0.265034 | Acc: 90.287739 | ε = inf\n",
      "Training Epoch 07 \tLoss: 0.243841 | Acc: 91.132163 | ε = inf\n",
      "Training Epoch 08 \tLoss: 0.209984 | Acc: 92.262391 | ε = inf\n",
      "Training Epoch 09 \tLoss: 0.206671 | Acc: 92.420349 | ε = inf\n",
      "Training Epoch 10 \tLoss: 0.176496 | Acc: 93.392756 | ε = inf\n",
      "Training Epoch 11 \tLoss: 0.166425 | Acc: 93.924625 | ε = inf\n",
      "Training Epoch 12 \tLoss: 0.139576 | Acc: 95.088189 | ε = inf\n",
      "Training Epoch 13 \tLoss: 0.181882 | Acc: 93.829887 | ε = inf\n",
      "Training Epoch 14 \tLoss: 0.192262 | Acc: 93.725157 | ε = inf\n",
      "Training Epoch 15 \tLoss: 0.097747 | Acc: 96.521026 | ε = inf\n",
      "Training Epoch 16 \tLoss: 0.092845 | Acc: 96.587561 | ε = inf\n",
      "Training Epoch 17 \tLoss: 0.089427 | Acc: 96.885037 | ε = inf\n",
      "Training Epoch 18 \tLoss: 0.096437 | Acc: 96.547685 | ε = inf\n",
      "Training Epoch 19 \tLoss: 0.085434 | Acc: 97.022966 | ε = inf\n",
      "Training Epoch 20 \tLoss: 0.218005 | Acc: 94.079222 | ε = inf\n",
      "\n",
      "Training Time \t\t90.73 seconds\n",
      "Test Set \t\tLoss: 1.807055 | Acc: 58.088518 \n",
      "\n",
      "\n",
      "\n",
      "\n",
      "Using downloaded and verified file: /Users/valentinbiller/Downloads/organcmnist.npz\n",
      "Using downloaded and verified file: /Users/valentinbiller/Downloads/organcmnist.npz\n",
      "\n",
      "\n",
      "\n",
      " ========== organcmnist ========== \n",
      "\n",
      "\n",
      "===== With DP =====\n"
     ]
    },
    {
     "data": {
      "application/vnd.jupyter.widget-view+json": {
       "model_id": "",
       "version_major": 2,
       "version_minor": 0
      },
      "text/plain": [
       "Epoch:   0%|          | 0/20 [00:00<?, ?epoch/s]"
      ]
     },
     "metadata": {},
     "output_type": "display_data"
    },
    {
     "name": "stdout",
     "output_type": "stream",
     "text": [
      "Training Epoch 01 \tLoss: 2.228463 | Acc: 38.767714 | ε = 14.66\n",
      "Training Epoch 02 \tLoss: 0.869041 | Acc: 74.596796 | ε = 18.26\n",
      "Training Epoch 03 \tLoss: 0.708963 | Acc: 80.844635 | ε = 21.10\n",
      "Training Epoch 04 \tLoss: 0.673098 | Acc: 82.360853 | ε = 23.57\n",
      "Training Epoch 05 \tLoss: 0.616290 | Acc: 84.243866 | ε = 25.80\n",
      "Training Epoch 06 \tLoss: 0.595377 | Acc: 85.278052 | ε = 27.87\n",
      "Training Epoch 07 \tLoss: 0.536857 | Acc: 86.509465 | ε = 29.81\n",
      "Training Epoch 08 \tLoss: 0.535025 | Acc: 86.628274 | ε = 31.66\n",
      "Training Epoch 09 \tLoss: 0.542969 | Acc: 86.348792 | ε = 33.43\n",
      "Training Epoch 10 \tLoss: 0.520541 | Acc: 87.486331 | ε = 35.13\n",
      "Training Epoch 11 \tLoss: 0.507330 | Acc: 87.477531 | ε = 36.78\n",
      "Training Epoch 12 \tLoss: 0.479737 | Acc: 88.163988 | ε = 38.38\n",
      "Training Epoch 13 \tLoss: 0.454631 | Acc: 88.638618 | ε = 39.94\n",
      "Training Epoch 14 \tLoss: 0.473386 | Acc: 88.325172 | ε = 41.46\n",
      "Training Epoch 15 \tLoss: 0.467767 | Acc: 88.289717 | ε = 42.95\n",
      "Training Epoch 16 \tLoss: 0.430540 | Acc: 89.270243 | ε = 44.41\n",
      "Training Epoch 17 \tLoss: 0.443109 | Acc: 89.434948 | ε = 45.84\n",
      "Training Epoch 18 \tLoss: 0.406694 | Acc: 89.990606 | ε = 47.25\n",
      "Training Epoch 19 \tLoss: 0.413789 | Acc: 90.215226 | ε = 48.63\n",
      "Training Epoch 20 \tLoss: 0.403179 | Acc: 90.135154 | ε = 49.99\n",
      "\n",
      "Training Time \t\t5989.60 seconds\n",
      "Test Set \t\tLoss: 1.009729 | Acc: 79.362914 \n",
      "\n",
      "===== Without DP =====\n"
     ]
    },
    {
     "data": {
      "application/vnd.jupyter.widget-view+json": {
       "model_id": "",
       "version_major": 2,
       "version_minor": 0
      },
      "text/plain": [
       "Epoch:   0%|          | 0/20 [00:00<?, ?epoch/s]"
      ]
     },
     "metadata": {},
     "output_type": "display_data"
    },
    {
     "name": "stdout",
     "output_type": "stream",
     "text": [
      "Training Epoch 01 \tLoss: 1.030646 | Acc: 68.747855 | ε = inf\n",
      "Training Epoch 02 \tLoss: 0.285904 | Acc: 89.772059 | ε = inf\n",
      "Training Epoch 03 \tLoss: 0.203161 | Acc: 92.671569 | ε = inf\n",
      "Training Epoch 04 \tLoss: 0.146550 | Acc: 94.844669 | ε = inf\n",
      "Training Epoch 05 \tLoss: 0.125356 | Acc: 95.740502 | ε = inf\n",
      "Training Epoch 06 \tLoss: 0.093434 | Acc: 96.848958 | ε = inf\n",
      "Training Epoch 07 \tLoss: 0.096155 | Acc: 96.687500 | ε = inf\n",
      "Training Epoch 08 \tLoss: 0.053884 | Acc: 98.112745 | ε = inf\n",
      "Training Epoch 09 \tLoss: 0.078744 | Acc: 97.717831 | ε = inf\n",
      "Training Epoch 10 \tLoss: 0.056143 | Acc: 98.257353 | ε = inf\n",
      "Training Epoch 11 \tLoss: 0.042073 | Acc: 98.628983 | ε = inf\n",
      "Training Epoch 12 \tLoss: 0.062661 | Acc: 98.048100 | ε = inf\n",
      "Training Epoch 13 \tLoss: 0.100159 | Acc: 97.837929 | ε = inf\n",
      "Training Epoch 14 \tLoss: 0.034725 | Acc: 98.825980 | ε = inf\n",
      "Training Epoch 15 \tLoss: 0.021387 | Acc: 99.304228 | ε = inf\n",
      "Training Epoch 16 \tLoss: 0.045226 | Acc: 98.594056 | ε = inf\n",
      "Training Epoch 17 \tLoss: 0.056074 | Acc: 98.348039 | ε = inf\n",
      "Training Epoch 18 \tLoss: 0.021200 | Acc: 99.323836 | ε = inf\n",
      "Training Epoch 19 \tLoss: 0.011753 | Acc: 99.594056 | ε = inf\n",
      "Training Epoch 20 \tLoss: 0.030897 | Acc: 99.053615 | ε = inf\n",
      "\n",
      "Training Time \t\t98.28 seconds\n",
      "Test Set \t\tLoss: 0.697619 | Acc: 85.487066 \n",
      "\n",
      "\n",
      "\n",
      "\n"
     ]
    }
   ],
   "source": [
    "import medmnist\n",
    "from medmnist import INFO\n",
    "\n",
    "root = '/Users/valentinbiller/Downloads/'\n",
    "datasets = ['dermamnist', 'pneumoniamnist', 'bloodmnist', 'organcmnist']\n",
    "\n",
    "transformMedMNIST = transforms.Compose([\n",
    "    transforms.ToTensor(),\n",
    "    transforms.Normalize(mean=[.5], std=[.5]),\n",
    "])\n",
    "\n",
    "for data_flag in datasets:\n",
    "    \n",
    "    info = INFO[data_flag]\n",
    "    DataClass = getattr(medmnist, info['python_class'])\n",
    "    \n",
    "    train_dataset = DataClass(split='train', transform=transformMedMNIST, download=True, root=root)\n",
    "    train_loader = torch.utils.data.DataLoader(train_dataset, batch_size=256, shuffle=True)\n",
    "\n",
    "    test_dataset = DataClass(split='test', transform=transformMedMNIST, download=True, root=root)\n",
    "    test_loader = torch.utils.data.DataLoader(test_dataset, batch_size=256, shuffle=False)\n",
    "    \n",
    "    num_classes = len(info['label'])\n",
    "    \n",
    "    privacy_engine = PrivacyEngine()\n",
    "    model = torchvision.models.resnet18(num_classes=num_classes)\n",
    "    if data_flag == 'pneumoniamnist' or data_flag == 'organcmnist':     \n",
    "        model.conv1 = nn.Conv2d(1, 64, kernel_size=(7, 7), stride=(2, 2), padding=(3, 3), bias=False)\n",
    " \n",
    "    print(f'\\n\\n\\n ========== {data_flag} ========== \\n')\n",
    "    pipeline(model, train_loader, test_loader, device, task='multi_class')\n",
    "    print(f'\\n\\n\\n')"
   ]
  },
  {
   "cell_type": "code",
   "execution_count": null,
   "id": "753e3fec",
   "metadata": {},
   "outputs": [],
   "source": []
  }
 ],
 "metadata": {
  "kernelspec": {
   "display_name": "Python 3 (ipykernel)",
   "language": "python",
   "name": "python3"
  },
  "language_info": {
   "codemirror_mode": {
    "name": "ipython",
    "version": 3
   },
   "file_extension": ".py",
   "mimetype": "text/x-python",
   "name": "python",
   "nbconvert_exporter": "python",
   "pygments_lexer": "ipython3",
   "version": "3.9.18"
  }
 },
 "nbformat": 4,
 "nbformat_minor": 5
}

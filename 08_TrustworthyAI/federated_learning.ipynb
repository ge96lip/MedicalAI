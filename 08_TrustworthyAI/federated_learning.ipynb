{
 "cells": [
  {
   "cell_type": "code",
   "execution_count": 1,
   "metadata": {},
   "outputs": [
    {
     "name": "stdout",
     "output_type": "stream",
     "text": [
      "Requirement already satisfied: ipywidgets in c:\\users\\sama\\anaconda3\\envs\\aim_ex1\\lib\\site-packages (8.1.1)\n",
      "Requirement already satisfied: comm>=0.1.3 in c:\\users\\sama\\anaconda3\\envs\\aim_ex1\\lib\\site-packages (from ipywidgets) (0.1.4)\n",
      "Requirement already satisfied: ipython>=6.1.0 in c:\\users\\sama\\anaconda3\\envs\\aim_ex1\\lib\\site-packages (from ipywidgets) (8.16.1)\n",
      "Requirement already satisfied: traitlets>=4.3.1 in c:\\users\\sama\\anaconda3\\envs\\aim_ex1\\lib\\site-packages (from ipywidgets) (5.12.0)\n",
      "Requirement already satisfied: widgetsnbextension~=4.0.9 in c:\\users\\sama\\anaconda3\\envs\\aim_ex1\\lib\\site-packages (from ipywidgets) (4.0.9)\n",
      "Requirement already satisfied: jupyterlab-widgets~=3.0.9 in c:\\users\\sama\\anaconda3\\envs\\aim_ex1\\lib\\site-packages (from ipywidgets) (3.0.9)\n",
      "Requirement already satisfied: backcall in c:\\users\\sama\\anaconda3\\envs\\aim_ex1\\lib\\site-packages (from ipython>=6.1.0->ipywidgets) (0.2.0)\n",
      "Requirement already satisfied: decorator in c:\\users\\sama\\anaconda3\\envs\\aim_ex1\\lib\\site-packages (from ipython>=6.1.0->ipywidgets) (5.1.1)\n",
      "Requirement already satisfied: jedi>=0.16 in c:\\users\\sama\\anaconda3\\envs\\aim_ex1\\lib\\site-packages (from ipython>=6.1.0->ipywidgets) (0.19.1)\n",
      "Requirement already satisfied: matplotlib-inline in c:\\users\\sama\\anaconda3\\envs\\aim_ex1\\lib\\site-packages (from ipython>=6.1.0->ipywidgets) (0.1.6)\n",
      "Requirement already satisfied: pickleshare in c:\\users\\sama\\anaconda3\\envs\\aim_ex1\\lib\\site-packages (from ipython>=6.1.0->ipywidgets) (0.7.5)\n",
      "Requirement already satisfied: prompt-toolkit!=3.0.37,<3.1.0,>=3.0.30 in c:\\users\\sama\\anaconda3\\envs\\aim_ex1\\lib\\site-packages (from ipython>=6.1.0->ipywidgets) (3.0.39)\n",
      "Requirement already satisfied: pygments>=2.4.0 in c:\\users\\sama\\anaconda3\\envs\\aim_ex1\\lib\\site-packages (from ipython>=6.1.0->ipywidgets) (2.16.1)\n",
      "Requirement already satisfied: stack-data in c:\\users\\sama\\anaconda3\\envs\\aim_ex1\\lib\\site-packages (from ipython>=6.1.0->ipywidgets) (0.6.2)\n",
      "Requirement already satisfied: typing-extensions in c:\\users\\sama\\anaconda3\\envs\\aim_ex1\\lib\\site-packages (from ipython>=6.1.0->ipywidgets) (4.8.0)\n",
      "Requirement already satisfied: exceptiongroup in c:\\users\\sama\\anaconda3\\envs\\aim_ex1\\lib\\site-packages (from ipython>=6.1.0->ipywidgets) (1.1.3)\n",
      "Requirement already satisfied: colorama in c:\\users\\sama\\anaconda3\\envs\\aim_ex1\\lib\\site-packages (from ipython>=6.1.0->ipywidgets) (0.4.6)\n",
      "Requirement already satisfied: parso<0.9.0,>=0.8.3 in c:\\users\\sama\\anaconda3\\envs\\aim_ex1\\lib\\site-packages (from jedi>=0.16->ipython>=6.1.0->ipywidgets) (0.8.3)\n",
      "Requirement already satisfied: wcwidth in c:\\users\\sama\\anaconda3\\envs\\aim_ex1\\lib\\site-packages (from prompt-toolkit!=3.0.37,<3.1.0,>=3.0.30->ipython>=6.1.0->ipywidgets) (0.2.8)\n",
      "Requirement already satisfied: executing>=1.2.0 in c:\\users\\sama\\anaconda3\\envs\\aim_ex1\\lib\\site-packages (from stack-data->ipython>=6.1.0->ipywidgets) (1.2.0)\n",
      "Requirement already satisfied: asttokens>=2.1.0 in c:\\users\\sama\\anaconda3\\envs\\aim_ex1\\lib\\site-packages (from stack-data->ipython>=6.1.0->ipywidgets) (2.4.1)\n",
      "Requirement already satisfied: pure-eval in c:\\users\\sama\\anaconda3\\envs\\aim_ex1\\lib\\site-packages (from stack-data->ipython>=6.1.0->ipywidgets) (0.2.2)\n",
      "Requirement already satisfied: six>=1.12.0 in c:\\users\\sama\\anaconda3\\envs\\aim_ex1\\lib\\site-packages (from asttokens>=2.1.0->stack-data->ipython>=6.1.0->ipywidgets) (1.16.0)\n",
      "Requirement already satisfied: flwr[simulation] in c:\\users\\sama\\anaconda3\\envs\\aim_ex1\\lib\\site-packages (1.6.0)\n",
      "Requirement already satisfied: cryptography<42.0.0,>=41.0.2 in c:\\users\\sama\\anaconda3\\envs\\aim_ex1\\lib\\site-packages (from flwr[simulation]) (41.0.7)\n",
      "Requirement already satisfied: grpcio!=1.52.0,<2.0.0,>=1.48.2 in c:\\users\\sama\\anaconda3\\envs\\aim_ex1\\lib\\site-packages (from flwr[simulation]) (1.59.2)\n",
      "Requirement already satisfied: iterators<0.0.3,>=0.0.2 in c:\\users\\sama\\anaconda3\\envs\\aim_ex1\\lib\\site-packages (from flwr[simulation]) (0.0.2)\n",
      "Requirement already satisfied: numpy<2.0.0,>=1.21.0 in c:\\users\\sama\\anaconda3\\envs\\aim_ex1\\lib\\site-packages (from flwr[simulation]) (1.26.1)\n",
      "Requirement already satisfied: protobuf<4.0.0,>=3.19.0 in c:\\users\\sama\\anaconda3\\envs\\aim_ex1\\lib\\site-packages (from flwr[simulation]) (3.20.3)\n",
      "Requirement already satisfied: pycryptodome<4.0.0,>=3.18.0 in c:\\users\\sama\\anaconda3\\envs\\aim_ex1\\lib\\site-packages (from flwr[simulation]) (3.20.0)\n",
      "Requirement already satisfied: pydantic<2.0.0 in c:\\users\\sama\\anaconda3\\envs\\aim_ex1\\lib\\site-packages (from flwr[simulation]) (1.10.13)\n",
      "Requirement already satisfied: ray==2.6.3 in c:\\users\\sama\\anaconda3\\envs\\aim_ex1\\lib\\site-packages (from flwr[simulation]) (2.6.3)\n",
      "Requirement already satisfied: click>=7.0 in c:\\users\\sama\\anaconda3\\envs\\aim_ex1\\lib\\site-packages (from ray==2.6.3->flwr[simulation]) (8.1.7)\n",
      "Requirement already satisfied: filelock in c:\\users\\sama\\anaconda3\\envs\\aim_ex1\\lib\\site-packages (from ray==2.6.3->flwr[simulation]) (3.13.0)\n",
      "Requirement already satisfied: jsonschema in c:\\users\\sama\\anaconda3\\envs\\aim_ex1\\lib\\site-packages (from ray==2.6.3->flwr[simulation]) (4.20.0)\n",
      "Requirement already satisfied: msgpack<2.0.0,>=1.0.0 in c:\\users\\sama\\anaconda3\\envs\\aim_ex1\\lib\\site-packages (from ray==2.6.3->flwr[simulation]) (1.0.7)\n",
      "Requirement already satisfied: packaging in c:\\users\\sama\\anaconda3\\envs\\aim_ex1\\lib\\site-packages (from ray==2.6.3->flwr[simulation]) (23.2)\n",
      "Requirement already satisfied: pyyaml in c:\\users\\sama\\anaconda3\\envs\\aim_ex1\\lib\\site-packages (from ray==2.6.3->flwr[simulation]) (6.0.1)\n",
      "Requirement already satisfied: aiosignal in c:\\users\\sama\\anaconda3\\envs\\aim_ex1\\lib\\site-packages (from ray==2.6.3->flwr[simulation]) (1.3.1)\n",
      "Requirement already satisfied: frozenlist in c:\\users\\sama\\anaconda3\\envs\\aim_ex1\\lib\\site-packages (from ray==2.6.3->flwr[simulation]) (1.4.1)\n",
      "Requirement already satisfied: requests in c:\\users\\sama\\anaconda3\\envs\\aim_ex1\\lib\\site-packages (from ray==2.6.3->flwr[simulation]) (2.31.0)\n",
      "Requirement already satisfied: cffi>=1.12 in c:\\users\\sama\\anaconda3\\envs\\aim_ex1\\lib\\site-packages (from cryptography<42.0.0,>=41.0.2->flwr[simulation]) (1.16.0)\n",
      "Requirement already satisfied: typing-extensions>=4.2.0 in c:\\users\\sama\\anaconda3\\envs\\aim_ex1\\lib\\site-packages (from pydantic<2.0.0->flwr[simulation]) (4.8.0)\n",
      "Requirement already satisfied: pycparser in c:\\users\\sama\\anaconda3\\envs\\aim_ex1\\lib\\site-packages (from cffi>=1.12->cryptography<42.0.0,>=41.0.2->flwr[simulation]) (2.21)\n",
      "Requirement already satisfied: colorama in c:\\users\\sama\\anaconda3\\envs\\aim_ex1\\lib\\site-packages (from click>=7.0->ray==2.6.3->flwr[simulation]) (0.4.6)\n",
      "Requirement already satisfied: attrs>=22.2.0 in c:\\users\\sama\\anaconda3\\envs\\aim_ex1\\lib\\site-packages (from jsonschema->ray==2.6.3->flwr[simulation]) (23.2.0)\n",
      "Requirement already satisfied: jsonschema-specifications>=2023.03.6 in c:\\users\\sama\\anaconda3\\envs\\aim_ex1\\lib\\site-packages (from jsonschema->ray==2.6.3->flwr[simulation]) (2023.12.1)\n",
      "Requirement already satisfied: referencing>=0.28.4 in c:\\users\\sama\\anaconda3\\envs\\aim_ex1\\lib\\site-packages (from jsonschema->ray==2.6.3->flwr[simulation]) (0.32.1)\n",
      "Requirement already satisfied: rpds-py>=0.7.1 in c:\\users\\sama\\anaconda3\\envs\\aim_ex1\\lib\\site-packages (from jsonschema->ray==2.6.3->flwr[simulation]) (0.17.1)\n",
      "Requirement already satisfied: charset-normalizer<4,>=2 in c:\\users\\sama\\anaconda3\\envs\\aim_ex1\\lib\\site-packages (from requests->ray==2.6.3->flwr[simulation]) (3.3.1)\n",
      "Requirement already satisfied: idna<4,>=2.5 in c:\\users\\sama\\anaconda3\\envs\\aim_ex1\\lib\\site-packages (from requests->ray==2.6.3->flwr[simulation]) (3.4)\n",
      "Requirement already satisfied: urllib3<3,>=1.21.1 in c:\\users\\sama\\anaconda3\\envs\\aim_ex1\\lib\\site-packages (from requests->ray==2.6.3->flwr[simulation]) (2.0.7)\n",
      "Requirement already satisfied: certifi>=2017.4.17 in c:\\users\\sama\\anaconda3\\envs\\aim_ex1\\lib\\site-packages (from requests->ray==2.6.3->flwr[simulation]) (2023.7.22)\n"
     ]
    }
   ],
   "source": [
    "!pip install -q flwr\n",
    "!pip install -U ipywidgets\n",
    "!pip install -U flwr[\"simulation\"]"
   ]
  },
  {
   "cell_type": "code",
   "execution_count": 2,
   "metadata": {},
   "outputs": [],
   "source": [
    "import medmnist\n",
    "from medmnist import INFO, Evaluator\n",
    "from torchvision import transforms\n",
    "from torchvision.transforms import ToTensor, Lambda\n",
    "import torch.utils.data as data\n",
    "from torchvision import models\n",
    "import torch\n",
    "import tqdm\n",
    "from collections import OrderedDict\n",
    "from typing import List, Tuple\n",
    "import numpy as np \n",
    "from torch.utils.data import DataLoader, random_split\n",
    "import flwr as fl\n",
    "from torch import nn\n",
    "import torch.nn.functional as F\n",
    "from flwr.common import Metrics\n",
    "\n",
    "\n",
    "DEVICE = torch.device(\"cuda:0\" if torch.cuda.is_available() else \"cpu\")\n"
   ]
  },
  {
   "cell_type": "markdown",
   "metadata": {},
   "source": [
    "## Dataset Loading"
   ]
  },
  {
   "cell_type": "code",
   "execution_count": 3,
   "metadata": {},
   "outputs": [],
   "source": [
    "# def load_data(batch_size=64):\n",
    "#     data_transform = transforms.Compose([\n",
    "#         transforms.ToTensor(),\n",
    "#         transforms.Normalize(mean=[.5], std=[.5])\n",
    "#     ])\n",
    "#     data_flag = 'chestmnist'\n",
    "#     info = INFO[data_flag]\n",
    "#     DataClass = getattr(medmnist, info['python_class'])\n",
    "\n",
    "#     train_set = DataClass(split='train', transform=data_transform, target_transform=Lambda(lambda y: y[0]), download=True)\n",
    "#     test_set = DataClass(split='test', transform=data_transform, target_transform=Lambda(lambda y: y[0]), download=True)\n",
    "#     # val_set = DataClass(split='val', transform=data_transform, target_transform=Lambda(lambda y: y[0]), download=True)\n",
    "    \n",
    "#     train_loader = data.DataLoader(dataset=train_set, batch_size=batch_size, shuffle=True)\n",
    "#     test_loader = data.DataLoader(dataset=test_set, batch_size=batch_size, shuffle=False)\n",
    "#     # valid_loader = data.DataLoader(dataset=val_set, batch_size=batch_size, shuffle=False)\n",
    "\n",
    "#     num_examples = {\"trainset\" : len(train_set), \"testset\" : len(test_set)}\n",
    "#     return train_loader, test_loader, num_examples\n",
    "\n",
    "\n",
    "def load_datasets(num_clients: int):\n",
    "    # Download and transform CIFAR-10 (train and test)\n",
    "    transform = transforms.Compose([\n",
    "        transforms.ToTensor(),\n",
    "        transforms.Normalize(mean=[.5], std=[.5])\n",
    "    ])\n",
    "    # transform = transforms.Compose(\n",
    "    #     [transforms.ToTensor(), transforms.Normalize((0.5, 0.5, 0.5), (0.5, 0.5, 0.5))]\n",
    "    # )\n",
    "    data_flag = 'chestmnist'\n",
    "    info = INFO[data_flag]\n",
    "    DataClass = getattr(medmnist, info['python_class'])\n",
    "\n",
    "    trainset = DataClass(split='train', transform=transform, target_transform=Lambda(lambda y: y[0]), download=True)\n",
    "    testset = DataClass(split='test', transform=transform, target_transform=Lambda(lambda y: y[0]), download=True)\n",
    "    valset = DataClass(split='val', transform=transform, target_transform=Lambda(lambda y: y[0]), download=True)\n",
    "\n",
    "    #  Split training set into `num_clients` partitions to simulate different local datasets\n",
    "    partition_size = len(trainset) // num_clients\n",
    "    if partition_size * num_clients == len(valset):\n",
    "        lengths = [partition_size] * num_clients \n",
    "    else: \n",
    "         lengths = [partition_size] * (num_clients-1)  + [partition_size+ (len(trainset) % num_clients)]\n",
    "    train_datasets = random_split(trainset, lengths, torch.Generator().manual_seed(42))\n",
    "    \n",
    "    partition_size = len(valset) // num_clients\n",
    "    if partition_size * num_clients == len(valset):\n",
    "        lengths = [partition_size] * num_clients \n",
    "    else: \n",
    "         lengths = [partition_size] * (num_clients-1)  + [partition_size+ (len(valset) % num_clients)]\n",
    "    # print(len(valset), lengths)\n",
    "    val_datasets = random_split(valset, lengths, torch.Generator().manual_seed(42))\n",
    "    # Split each partition into train/val and create DataLoader\n",
    "    trainloaders = []\n",
    "    valloaders = []\n",
    "\n",
    "    for t_ds in train_datasets:\n",
    "        # len_train = len(t_ds) \n",
    "        # t_lengths = [len_train]\n",
    "        # ds_train = random_split(t_ds, lengths, torch.Generator().manual_seed(42))\n",
    "        trainloaders.append(DataLoader(t_ds, batch_size=32, shuffle=True))\n",
    "\n",
    "\n",
    "    for v_ds in val_datasets:\n",
    "        # len_val = len(v_ds) // 10  # 10 % validation set\n",
    "        # v_lengths = [len_val]\n",
    "        # ds_val = random_split(v_ds, lengths, torch.Generator().manual_seed(42))\n",
    "        valloaders.append(DataLoader(v_ds, batch_size=32))\n",
    "        \n",
    "    testloader = DataLoader(testset, batch_size=32)\n",
    "    return trainloaders, valloaders, testloader\n",
    "\n"
   ]
  },
  {
   "cell_type": "markdown",
   "metadata": {},
   "source": [
    "## Define Train and Test"
   ]
  },
  {
   "cell_type": "code",
   "execution_count": 11,
   "metadata": {},
   "outputs": [],
   "source": [
    "def train(net, trainloader, epochs: int, verbose=False):\n",
    "    \"\"\"Train the network on the training set.\"\"\"\n",
    "\n",
    "    net.train()\n",
    "    criterion = torch.nn.CrossEntropyLoss()\n",
    "    optimizer = torch.optim.Adam(net.parameters())\n",
    "    accuracy, loss = 0, 0\n",
    "    for epoch in range(epochs):\n",
    "        correct, total, epoch_loss = 0, 0, 0.0\n",
    "        for i, batch in enumerate(trainloader):\n",
    "            # print(i)\n",
    "            images, labels = batch\n",
    "            optimizer.zero_grad()\n",
    "            images = images.expand(-1, 3, -1, -1)\n",
    "            outputs = net(images)\n",
    "            labels = labels.long()\n",
    "            loss = criterion(outputs, labels)\n",
    "            loss.backward()\n",
    "            optimizer.step()\n",
    "            # Metrics\n",
    "            epoch_loss += loss\n",
    "            total += labels.size(0)\n",
    "            predicted = torch.argmax(outputs.detach().cpu(), axis=1)\n",
    "            correct += (predicted == labels).sum().item()\n",
    "            # correct += (torch.max(outputs.data, 1)[1] == labels).sum().item()\n",
    "        epoch_loss /= len(trainloader.dataset)\n",
    "        epoch_acc = correct / total\n",
    "        # if verbose:\n",
    "        # print(f\"Epoch {epoch}: train loss {epoch_loss}, accuracy {epoch_acc}\")\n",
    "    return epoch_loss, epoch_acc \n",
    "\n",
    "def test(net, testloader):\n",
    "    \"\"\"Evaluate the network on the entire test set.\"\"\"\n",
    "    criterion = torch.nn.CrossEntropyLoss()\n",
    "    correct, total, loss = 0, 0, 0.0\n",
    "    net.eval()\n",
    "    with torch.no_grad():\n",
    "        for batch in testloader:\n",
    "            images, labels = batch\n",
    "            images = images.expand(-1, 3, -1, -1)\n",
    "            labels = labels.long()\n",
    "            outputs = net(images)\n",
    "            loss += criterion(outputs, labels).item()\n",
    "            # print(outputs)\n",
    "            # _, predicted = torch.max(outputs.data, 1)\n",
    "            predicted = torch.argmax(outputs.detach().cpu(), axis=1)\n",
    "            total += labels.size(0)\n",
    "            correct += (predicted == labels).sum().item()\n",
    "    loss /= len(testloader.dataset)\n",
    "    accuracy = correct / total\n",
    "    return loss, accuracy            "
   ]
  },
  {
   "cell_type": "markdown",
   "metadata": {},
   "source": [
    "## Model "
   ]
  },
  {
   "cell_type": "code",
   "execution_count": 5,
   "metadata": {},
   "outputs": [],
   "source": [
    "\n",
    "class Net(nn.Module):\n",
    "    def __init__(self) -> None:\n",
    "        super(Net, self).__init__()\n",
    "        self.conv1 = nn.Conv2d(3, 6, 5)\n",
    "        self.pool = nn.MaxPool2d(2, 2)\n",
    "        self.conv2 = nn.Conv2d(6, 16, 5)\n",
    "        self.fc1 = nn.Linear(16 * 4 * 4, 120)\n",
    "        self.fc2 = nn.Linear(120, 84)\n",
    "        self.fc3 = nn.Linear(84, 10)\n",
    "\n",
    "    def forward(self, x: torch.Tensor) -> torch.Tensor:\n",
    "        x = self.pool(F.relu(self.conv1(x)))\n",
    "        x = self.pool(F.relu(self.conv2(x)))\n",
    "\n",
    "        # print(x.shape)\n",
    "        x = x.view(-1, 16 * 4 * 4)\n",
    "        x = F.relu(self.fc1(x))\n",
    "        x = F.relu(self.fc2(x))\n",
    "        x = self.fc3(x)\n",
    "        return x\n",
    "\n",
    "# Load model and data\n",
    "# net = Net().to(DEVICE)"
   ]
  },
  {
   "cell_type": "code",
   "execution_count": 20,
   "metadata": {},
   "outputs": [],
   "source": [
    "# class MedmnistClient(fl.client.NumPyClient):\n",
    "#     def get_parameters(self, config):\n",
    "#         return [val.cpu().numpy() for _, val in model.state_dict().items()]\n",
    "\n",
    "#     def set_parameters(self, parameters):\n",
    "#         params_dict = zip(model.state_dict().keys(), parameters)\n",
    "#         state_dict = OrderedDict({k: torch.tensor(v) for k, v in params_dict})\n",
    "#         model.load_state_dict(state_dict, strict=True)\n",
    "\n",
    "#     def fit(self, parameters, config):\n",
    "#         self.set_parameters(parameters)\n",
    "#         train(model, train_loader, epochs=1)\n",
    "#         return self.get_parameters(config={}), num_examples[\"trainset\"], {}\n",
    "\n",
    "#     def evaluate(self, parameters, config):\n",
    "#         self.set_parameters(parameters)\n",
    "#         loss, accuracy = test(model, test_loader)\n",
    "#         return float(loss), num_examples[\"testset\"], {\"accuracy\": float(accuracy)}\n",
    "    \n",
    "def get_parameters(net) -> List[np.ndarray]:\n",
    "    return [val.cpu().numpy() for _, val in net.state_dict().items()]\n",
    "\n",
    "\n",
    "def set_parameters(net, parameters: List[np.ndarray]):\n",
    "    params_dict = zip(net.state_dict().keys(), parameters)\n",
    "    state_dict = OrderedDict({k: torch.Tensor(v) for k, v in params_dict})\n",
    "    net.load_state_dict(state_dict, strict=True)\n",
    "\n",
    "class FlowerClient(fl.client.NumPyClient):\n",
    "    def __init__(self, cid, net, trainloader, valloader):\n",
    "        self.cid = cid\n",
    "        self.net = net\n",
    "        self.trainloader = trainloader\n",
    "        self.valloader = valloader\n",
    "\n",
    "    def get_parameters(self, config):\n",
    "        print(f\"[Client {self.cid}] get_parameters\")\n",
    "        return get_parameters(self.net)\n",
    "\n",
    "    def fit(self, parameters, config):\n",
    "        print(f\"[Client {self.cid}] fit, config: {config}\")\n",
    "        set_parameters(self.net, parameters)\n",
    "        loss, accuracy = train(self.net, self.trainloader, epochs=1)\n",
    "        return get_parameters(self.net), len(self.trainloader), {\"loss\": float(loss), \"accuracy\": float(accuracy)}\n",
    "\n",
    "    def evaluate(self, parameters, config):\n",
    "        print(f\"[Client {self.cid}] evaluate, config: {config}\")\n",
    "        set_parameters(self.net, parameters)\n",
    "        loss, accuracy = test(self.net, self.valloader)\n",
    "        return float(loss), len(self.valloader), {\"loss\": float(loss), \"accuracy\": float(accuracy)}\n",
    "\n",
    "def client_fn(cid) -> FlowerClient:\n",
    "    # net = models.resnet18(weights='DEFAULT').to(DEVICE)\n",
    "    net = Net().to(DEVICE)\n",
    "    trainloader = trainloaders[int(cid)]\n",
    "    valloader = valloaders[int(cid)]\n",
    "    return FlowerClient(cid, net, trainloader, valloader)"
   ]
  },
  {
   "cell_type": "code",
   "execution_count": 21,
   "metadata": {},
   "outputs": [],
   "source": [
    "\n",
    "def weighted_average(metrics: List[Tuple[int, Metrics]]) -> Metrics:\n",
    "    # Multiply accuracy of each client by number of examples used\n",
    "    accuracies = [num_examples * m[\"accuracy\"] for num_examples, m in metrics]\n",
    "    examples = [num_examples for num_examples, _ in metrics]\n",
    "\n",
    "    # Aggregate and return custom metric (weighted average)\n",
    "    return {\"accuracy\": sum(accuracies) / sum(examples)}"
   ]
  },
  {
   "cell_type": "code",
   "execution_count": 23,
   "metadata": {},
   "outputs": [
    {
     "name": "stdout",
     "output_type": "stream",
     "text": [
      "Using downloaded and verified file: C:\\Users\\Sama\\.medmnist\\chestmnist.npz\n",
      "Using downloaded and verified file: C:\\Users\\Sama\\.medmnist\\chestmnist.npz\n"
     ]
    },
    {
     "name": "stderr",
     "output_type": "stream",
     "text": [
      "INFO flwr 2024-01-18 15:19:01,294 | app.py:178 | Starting Flower simulation, config: ServerConfig(num_rounds=5, round_timeout=None)\n"
     ]
    },
    {
     "name": "stdout",
     "output_type": "stream",
     "text": [
      "Using downloaded and verified file: C:\\Users\\Sama\\.medmnist\\chestmnist.npz\n"
     ]
    },
    {
     "name": "stderr",
     "output_type": "stream",
     "text": [
      "2024-01-18 15:19:06,354\tINFO worker.py:1621 -- Started a local Ray instance.\n",
      "INFO flwr 2024-01-18 15:19:10,504 | app.py:213 | Flower VCE: Ray initialized with resources: {'CPU': 16.0, 'object_store_memory': 2310544588.0, 'node:127.0.0.1': 1.0, 'memory': 4621089179.0, 'node:__internal_head__': 1.0}\n",
      "INFO flwr 2024-01-18 15:19:10,504 | app.py:219 | Optimize your simulation with Flower VCE: https://flower.dev/docs/framework/how-to-run-simulations.html\n",
      "INFO flwr 2024-01-18 15:19:10,505 | app.py:227 | No `client_resources` specified. Using minimal resources for clients.\n",
      "INFO flwr 2024-01-18 15:19:10,506 | app.py:242 | Flower VCE: Resources for each Virtual Client: {'num_cpus': 1, 'num_gpus': 0.0}\n",
      "INFO flwr 2024-01-18 15:19:10,524 | app.py:288 | Flower VCE: Creating VirtualClientEngineActorPool with 16 actors\n",
      "INFO flwr 2024-01-18 15:19:10,525 | server.py:89 | Initializing global parameters\n",
      "INFO flwr 2024-01-18 15:19:10,526 | server.py:276 | Requesting initial parameters from one random client\n",
      "INFO flwr 2024-01-18 15:19:19,059 | server.py:280 | Received initial parameters from one random client\n",
      "INFO flwr 2024-01-18 15:19:19,060 | server.py:91 | Evaluating initial parameters\n",
      "INFO flwr 2024-01-18 15:19:19,060 | server.py:104 | FL starting\n",
      "DEBUG flwr 2024-01-18 15:19:19,061 | server.py:222 | fit_round 1: strategy sampled 3 clients (out of 3)\n"
     ]
    },
    {
     "name": "stdout",
     "output_type": "stream",
     "text": [
      "\u001b[2m\u001b[36m(DefaultActor pid=20584)\u001b[0m [Client 1] get_parameters\n",
      "\u001b[2m\u001b[36m(DefaultActor pid=20584)\u001b[0m [Client 1] fit, config: {}\n"
     ]
    },
    {
     "name": "stderr",
     "output_type": "stream",
     "text": [
      "DEBUG flwr 2024-01-18 15:19:36,306 | server.py:236 | fit_round 1 received 3 results and 0 failures\n",
      "DEBUG flwr 2024-01-18 15:19:36,309 | server.py:173 | evaluate_round 1: strategy sampled 2 clients (out of 3)\n"
     ]
    },
    {
     "name": "stdout",
     "output_type": "stream",
     "text": [
      "\u001b[2m\u001b[36m(DefaultActor pid=23512)\u001b[0m [Client 0] evaluate, config: {}\n",
      "\u001b[2m\u001b[36m(DefaultActor pid=5908)\u001b[0m [Client 0] fit, config: {}\u001b[32m [repeated 2x across cluster]\u001b[0m\n"
     ]
    },
    {
     "name": "stderr",
     "output_type": "stream",
     "text": [
      "DEBUG flwr 2024-01-18 15:19:37,479 | server.py:187 | evaluate_round 1 received 2 results and 0 failures\n",
      "DEBUG flwr 2024-01-18 15:19:37,481 | server.py:222 | fit_round 2: strategy sampled 3 clients (out of 3)\n",
      "DEBUG flwr 2024-01-18 15:19:51,091 | server.py:236 | fit_round 2 received 3 results and 0 failures\n",
      "DEBUG flwr 2024-01-18 15:19:51,095 | server.py:173 | evaluate_round 2: strategy sampled 2 clients (out of 3)\n"
     ]
    },
    {
     "name": "stdout",
     "output_type": "stream",
     "text": [
      "\u001b[2m\u001b[36m(DefaultActor pid=20584)\u001b[0m [Client 0] evaluate, config: {}\u001b[32m [repeated 2x across cluster]\u001b[0m\n",
      "\u001b[2m\u001b[36m(DefaultActor pid=20584)\u001b[0m [Client 1] fit, config: {}\u001b[32m [repeated 3x across cluster]\u001b[0m\n"
     ]
    },
    {
     "name": "stderr",
     "output_type": "stream",
     "text": [
      "DEBUG flwr 2024-01-18 15:19:52,420 | server.py:187 | evaluate_round 2 received 2 results and 0 failures\n",
      "DEBUG flwr 2024-01-18 15:19:52,421 | server.py:222 | fit_round 3: strategy sampled 3 clients (out of 3)\n",
      "DEBUG flwr 2024-01-18 15:20:06,175 | server.py:236 | fit_round 3 received 3 results and 0 failures\n",
      "DEBUG flwr 2024-01-18 15:20:06,179 | server.py:173 | evaluate_round 3: strategy sampled 2 clients (out of 3)\n"
     ]
    },
    {
     "name": "stdout",
     "output_type": "stream",
     "text": [
      "\u001b[2m\u001b[36m(DefaultActor pid=20584)\u001b[0m [Client 2] evaluate, config: {}\u001b[32m [repeated 2x across cluster]\u001b[0m\n",
      "\u001b[2m\u001b[36m(DefaultActor pid=5908)\u001b[0m [Client 0] fit, config: {}\u001b[32m [repeated 3x across cluster]\u001b[0m\n"
     ]
    },
    {
     "name": "stderr",
     "output_type": "stream",
     "text": [
      "DEBUG flwr 2024-01-18 15:20:07,437 | server.py:187 | evaluate_round 3 received 2 results and 0 failures\n",
      "DEBUG flwr 2024-01-18 15:20:07,438 | server.py:222 | fit_round 4: strategy sampled 3 clients (out of 3)\n",
      "DEBUG flwr 2024-01-18 15:20:21,041 | server.py:236 | fit_round 4 received 3 results and 0 failures\n",
      "DEBUG flwr 2024-01-18 15:20:21,044 | server.py:173 | evaluate_round 4: strategy sampled 2 clients (out of 3)\n"
     ]
    },
    {
     "name": "stdout",
     "output_type": "stream",
     "text": [
      "\u001b[2m\u001b[36m(DefaultActor pid=20584)\u001b[0m [Client 2] evaluate, config: {}\u001b[32m [repeated 2x across cluster]\u001b[0m\n",
      "\u001b[2m\u001b[36m(DefaultActor pid=23512)\u001b[0m [Client 2] fit, config: {}\u001b[32m [repeated 3x across cluster]\u001b[0m\n"
     ]
    },
    {
     "name": "stderr",
     "output_type": "stream",
     "text": [
      "DEBUG flwr 2024-01-18 15:20:22,198 | server.py:187 | evaluate_round 4 received 2 results and 0 failures\n",
      "DEBUG flwr 2024-01-18 15:20:22,199 | server.py:222 | fit_round 5: strategy sampled 3 clients (out of 3)\n",
      "DEBUG flwr 2024-01-18 15:20:35,771 | server.py:236 | fit_round 5 received 3 results and 0 failures\n",
      "DEBUG flwr 2024-01-18 15:20:35,775 | server.py:173 | evaluate_round 5: strategy sampled 2 clients (out of 3)\n"
     ]
    },
    {
     "name": "stdout",
     "output_type": "stream",
     "text": [
      "\u001b[2m\u001b[36m(DefaultActor pid=20584)\u001b[0m [Client 2] evaluate, config: {}\u001b[32m [repeated 2x across cluster]\u001b[0m\n",
      "\u001b[2m\u001b[36m(DefaultActor pid=5908)\u001b[0m [Client 2] fit, config: {}\u001b[32m [repeated 3x across cluster]\u001b[0m\n"
     ]
    },
    {
     "name": "stderr",
     "output_type": "stream",
     "text": [
      "DEBUG flwr 2024-01-18 15:20:36,933 | server.py:187 | evaluate_round 5 received 2 results and 0 failures\n",
      "INFO flwr 2024-01-18 15:20:36,934 | server.py:153 | FL finished in 77.87219379999988\n",
      "INFO flwr 2024-01-18 15:20:36,934 | app.py:226 | app_fit: losses_distributed [(1, 0.009619691928509373), (2, 0.009544501427445404), (3, 0.009243369295023372), (4, 0.009456421733679906), (5, 0.009161372952273405)]\n",
      "INFO flwr 2024-01-18 15:20:36,935 | app.py:227 | app_fit: metrics_distributed_fit {'accuracy': [(1, 0.8968369271550186), (2, 0.8980985879594228), (3, 0.898098587959423), (4, 0.8980985879594228), (5, 0.8980985879594228)]}\n",
      "INFO flwr 2024-01-18 15:20:36,935 | app.py:228 | app_fit: metrics_distributed {'accuracy': [(1, 0.9017116876170098), (2, 0.9021403172910518), (3, 0.9021403172910518), (4, 0.8969250190829748), (5, 0.9021403172910518)]}\n",
      "INFO flwr 2024-01-18 15:20:36,936 | app.py:229 | app_fit: losses_centralized []\n",
      "INFO flwr 2024-01-18 15:20:36,936 | app.py:230 | app_fit: metrics_centralized {}\n"
     ]
    },
    {
     "data": {
      "text/plain": [
       "History (loss, distributed):\n",
       "\tround 1: 0.009619691928509373\n",
       "\tround 2: 0.009544501427445404\n",
       "\tround 3: 0.009243369295023372\n",
       "\tround 4: 0.009456421733679906\n",
       "\tround 5: 0.009161372952273405\n",
       "History (metrics, distributed, fit):\n",
       "{'accuracy': [(1, 0.8968369271550186), (2, 0.8980985879594228), (3, 0.898098587959423), (4, 0.8980985879594228), (5, 0.8980985879594228)]}History (metrics, distributed, evaluate):\n",
       "{'accuracy': [(1, 0.9017116876170098), (2, 0.9021403172910518), (3, 0.9021403172910518), (4, 0.8969250190829748), (5, 0.9021403172910518)]}"
      ]
     },
     "execution_count": 23,
     "metadata": {},
     "output_type": "execute_result"
    }
   ],
   "source": [
    "# Create an instance of the model and get the parameters\n",
    "NUM_CLIENTS = 3\n",
    "trainloaders, valloaders, testloader = load_datasets(NUM_CLIENTS)\n",
    "# params = get_parameters(models.resnet18(weights='DEFAULT'))\n",
    "params = get_parameters(Net())\n",
    "server_config = fl.server.ServerConfig(num_rounds=5)\n",
    "# Pass parameters to the Strategy for server-side parameter initialization\n",
    "strategy = fl.server.strategy.FedAvg(\n",
    "    fraction_fit=1.0,\n",
    "    fraction_evaluate=0.5,\n",
    "    min_fit_clients=NUM_CLIENTS,\n",
    "    min_evaluate_clients=2,\n",
    "    min_available_clients=NUM_CLIENTS,\n",
    "    # initial_parameters=fl.common.ndarrays_to_parameters(params),\n",
    "    evaluate_metrics_aggregation_fn=weighted_average, \n",
    "    # fit_metrics_aggregation_fn=weighted_average\n",
    "    \n",
    ")\n",
    "\n",
    "# Specify client resources if you need GPU (defaults to 1 CPU and 0 GPU)\n",
    "client_resources = None\n",
    "if DEVICE.type == \"cuda\":\n",
    "    client_resources = {\"num_gpus\": 1}\n",
    "\n",
    "# Start simulation\n",
    "fl.simulation.start_simulation(\n",
    "    client_fn=client_fn,\n",
    "    num_clients=NUM_CLIENTS,\n",
    "    config=server_config,  # Just three rounds\n",
    "    strategy=strategy,\n",
    "    client_resources=client_resources,\n",
    ")"
   ]
  },
  {
   "cell_type": "code",
   "execution_count": null,
   "metadata": {},
   "outputs": [],
   "source": [
    "# model = Net()\n",
    "# train(model , trainloaders[0], epochs=3)\n",
    "# loss, accuracy = test(model, valloaders[0])"
   ]
  },
  {
   "cell_type": "code",
   "execution_count": null,
   "metadata": {},
   "outputs": [],
   "source": [
    "# fl.client.start_numpy_client(server_address=\"[::]:8080\", client=MedmnistClient())"
   ]
  },
  {
   "cell_type": "code",
   "execution_count": null,
   "metadata": {},
   "outputs": [],
   "source": []
  }
 ],
 "metadata": {
  "kernelspec": {
   "display_name": "AIM_EX1",
   "language": "python",
   "name": "python3"
  },
  "language_info": {
   "codemirror_mode": {
    "name": "ipython",
    "version": 3
   },
   "file_extension": ".py",
   "mimetype": "text/x-python",
   "name": "python",
   "nbconvert_exporter": "python",
   "pygments_lexer": "ipython3",
   "version": "3.9.0"
  }
 },
 "nbformat": 4,
 "nbformat_minor": 2
}
